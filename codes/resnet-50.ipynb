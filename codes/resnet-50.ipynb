{
 "cells": [
  {
   "cell_type": "code",
   "execution_count": 1,
   "metadata": {},
   "outputs": [],
   "source": [
    "import tensorflow as tf\n",
    "import tensorflow.keras as keras\n",
    "import numpy as np\n",
    "import matplotlib.pyplot as plt\n",
    "import os\n",
    "import cv2\n",
    "import pandas as pd\n",
    "import sklearn\n",
    "import imblearn as imb\n",
    "from sklearn.model_selection import train_test_split\n",
    "from imblearn.over_sampling import SMOTE"
   ]
  },
  {
   "cell_type": "code",
   "execution_count": null,
   "metadata": {},
   "outputs": [],
   "source": [
    "print(\"TensorFlow version:\", tf.__version__)\n",
    "print(\"NumPy version:\", np.__version__)\n",
    "print(\"OpenCV version:\", cv2.__version__)\n",
    "print(\"Python version:\", os.sys.version)\n",
    "print(\"Pandas version:\", pd.__version__)\n",
    "print(\"Matplotlib version:\", plt.matplotlib.__version__)\n",
    "print(\"Scikit-learn version:\", sklearn.__version__)\n",
    "print(\"Imbalanced-learn version:\", imb.__version__)"
   ]
  },
  {
   "cell_type": "code",
   "execution_count": null,
   "metadata": {},
   "outputs": [],
   "source": [
    "DATASET_PATH = '../dataset'\n",
    "IMAGE_SIZE = (256, 256)"
   ]
  },
  {
   "cell_type": "code",
   "execution_count": null,
   "metadata": {},
   "outputs": [],
   "source": [
    "def load_image(image_path):\n",
    "  try:\n",
    "    image = cv2.imread(image_path)\n",
    "    if image is None:\n",
    "      raise FileNotFoundError(\"Failed to load image. Please check the file path.\")\n",
    "    return image\n",
    "  except Exception as e:\n",
    "    print(\"Error:\", e)\n",
    "    return None"
   ]
  },
  {
   "cell_type": "code",
   "execution_count": null,
   "metadata": {},
   "outputs": [],
   "source": [
    "def image_preprocessing(image):\n",
    "  image = cv2.resize(image, IMAGE_SIZE)\n",
    "  gray = cv2.cvtColor(image, cv2.COLOR_BGR2GRAY)\n",
    "  clahe = cv2.createCLAHE(clipLimit=2.0, tileGridSize=(8, 8))\n",
    "  equalized = clahe.apply(gray)\n",
    "  # equalized = equalized.astype(np.float32) / 255.0\n",
    "  return image, gray, equalized"
   ]
  },
  {
   "cell_type": "code",
   "execution_count": null,
   "metadata": {},
   "outputs": [],
   "source": [
    "def show_image(image, title):\n",
    "  plt.imshow(image, cmap='gray')\n",
    "  plt.title(title)\n",
    "  plt.axis('off')\n",
    "  plt.show()"
   ]
  },
  {
   "cell_type": "code",
   "execution_count": null,
   "metadata": {},
   "outputs": [],
   "source": [
    "categories = []\n",
    "images = []\n",
    "grays = []\n",
    "equalizeds = []\n",
    "labels = []\n",
    "\n",
    "for dir in os.listdir(path=DATASET_PATH):\n",
    "    categories.append(dir)\n",
    "    dir_path = os.path.join(DATASET_PATH, dir)\n",
    "\n",
    "    for file in os.listdir(dir_path):\n",
    "        file_path = os.path.join(DATASET_PATH, dir, file)\n",
    "        image = load_image(file_path)\n",
    "\n",
    "        if image is not None:\n",
    "            image, gray, equalized = image_preprocessing(image)\n",
    "            images.append(image)\n",
    "            grays.append(gray)\n",
    "            equalizeds.append(equalized)\n",
    "            labels.append(categories.index(dir))"
   ]
  },
  {
   "cell_type": "code",
   "execution_count": null,
   "metadata": {},
   "outputs": [],
   "source": [
    "plt.figure(figsize=(15, 5))\n",
    "plt.subplot(1, 3, 1)\n",
    "plt.imshow(images[0], cmap='gray')\n",
    "plt.title('Original Image')\n",
    "plt.axis('off')\n",
    "\n",
    "plt.subplot(1, 3, 2)\n",
    "plt.imshow(grays[0], cmap='gray')\n",
    "plt.title('Grayscale Image')\n",
    "plt.axis('off')\n",
    "\n",
    "plt.subplot(1, 3, 3)\n",
    "plt.imshow(equalizeds[0], cmap='gray')\n",
    "plt.title('Equalized Image')\n",
    "plt.axis('off')\n",
    "plt.show()"
   ]
  },
  {
   "cell_type": "code",
   "execution_count": null,
   "metadata": {},
   "outputs": [],
   "source": [
    "x = np.array(equalizeds)\n",
    "y = np.array(labels)\n",
    "print(\"Data shape:\", x.shape, y.shape)"
   ]
  },
  {
   "cell_type": "code",
   "execution_count": null,
   "metadata": {},
   "outputs": [],
   "source": [
    "x_reshaped = x.reshape(x.shape[0], -1)\n",
    "print(\"Reshaped data shape:\", x_reshaped.shape)"
   ]
  },
  {
   "cell_type": "code",
   "execution_count": null,
   "metadata": {},
   "outputs": [],
   "source": [
    "smote = SMOTE(random_state=42)\n",
    "x_resampled, y_resampled = smote.fit_resample(x_reshaped, y)\n",
    "print(\"Resampled data shape:\", x_resampled.shape, y_resampled.shape)"
   ]
  },
  {
   "cell_type": "code",
   "execution_count": null,
   "metadata": {},
   "outputs": [],
   "source": [
    "x_resampled_reshaped = x_resampled.reshape(-1, IMAGE_SIZE[0], IMAGE_SIZE[1])\n",
    "x_expanded = np.expand_dims(x_resampled_reshaped, axis=-1)\n",
    "x_expanded = np.repeat(x_expanded, 3, axis=-1)\n",
    "print(\"Resampled reshaped data shape:\", x_expanded.shape)"
   ]
  },
  {
   "cell_type": "code",
   "execution_count": null,
   "metadata": {},
   "outputs": [],
   "source": [
    "downsampled_images = [cv2.resize(image, (64, 64)) for image in x_expanded]\n",
    "x_normalized = np.array(downsampled_images).astype(np.float32) / 255.0\n"
   ]
  },
  {
   "cell_type": "code",
   "execution_count": null,
   "metadata": {},
   "outputs": [],
   "source": [
    "def show_bar_chart(x_axis, y_axis, title, x_label, y_label):\n",
    "  plt.figure(figsize=(8, 4))\n",
    "  bars = plt.bar(x_axis, y_axis)\n",
    "  plt.title(title)\n",
    "  plt.xlabel(x_label)\n",
    "  plt.ylabel(y_label)\n",
    "  plt.ylim(0, 1200)\n",
    "  for bar, value in zip(bars, y_axis):\n",
    "      plt.text(bar.get_x() + bar.get_width() / 2, value + 0.2, str(value), ha='center', va='bottom', fontsize=10)\n",
    "  plt.show()"
   ]
  },
  {
   "cell_type": "code",
   "execution_count": null,
   "metadata": {},
   "outputs": [],
   "source": [
    "x_axis = [categories.replace('_', '\\n') for categories in categories]\n",
    "y_axis = [len(y[y == i]) for i in range(len(categories))]\n",
    "show_bar_chart(x_axis, y_axis, 'Original Data Distribution', 'Categories', 'Count')"
   ]
  },
  {
   "cell_type": "code",
   "execution_count": null,
   "metadata": {},
   "outputs": [],
   "source": [
    "x_axis = [categories.replace('_', '\\n') for categories in categories]\n",
    "y_axis = [len(y_resampled[y_resampled == i]) for i in range(len(categories))]\n",
    "show_bar_chart(x_axis, y_axis, 'SMOTE Data Distribution', 'Categories', 'Count')"
   ]
  },
  {
   "cell_type": "code",
   "execution_count": null,
   "metadata": {},
   "outputs": [],
   "source": [
    "from tensorflow.keras.applications import ResNet50\n",
    "from tensorflow.keras.layers import Dense, Flatten\n",
    "from tensorflow.keras.models import Model"
   ]
  },
  {
   "cell_type": "code",
   "execution_count": null,
   "metadata": {},
   "outputs": [],
   "source": [
    "x_train, x_test, y_train, y_test = train_test_split(x_normalized, y_resampled, test_size=0.2, random_state=42)\n",
    "print(\"Train data shape:\", x_train.shape, y_train.shape)\n",
    "print(\"Test data shape:\", x_test.shape, y_test.shape)"
   ]
  },
  {
   "cell_type": "code",
   "execution_count": null,
   "metadata": {},
   "outputs": [],
   "source": [
    "resnet_50 = ResNet50(\n",
    "    include_top=False\n",
    "    weights=None,\n",
    "    input_tensor=None,\n",
    "    input_shape=(64, 64, 3),\n",
    "    pooling=None,\n",
    "    classes=1000,\n",
    "    classifier_activation=\"softmax\",\n",
    ")"
   ]
  },
  {
   "cell_type": "code",
   "execution_count": null,
   "metadata": {},
   "outputs": [],
   "source": []
  }
 ],
 "metadata": {
  "kernelspec": {
   "display_name": "Python 3",
   "language": "python",
   "name": "python3"
  },
  "language_info": {
   "codemirror_mode": {
    "name": "ipython",
    "version": 3
   },
   "file_extension": ".py",
   "mimetype": "text/x-python",
   "name": "python",
   "nbconvert_exporter": "python",
   "pygments_lexer": "ipython3",
   "version": "3.12.2"
  }
 },
 "nbformat": 4,
 "nbformat_minor": 2
}
